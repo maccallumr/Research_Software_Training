{
 "metadata": {
  "name": "Python Demos"
 },
 "nbformat": 3,
 "nbformat_minor": 0,
 "worksheets": [
  {
   "cells": [
    {
     "cell_type": "code",
     "collapsed": false,
     "input": "# If Statement\n\n\"\"\" If statments check the boolean value of an expression, and\n        diverts the program flow depending on its boolean value\n    If statements have the form:\n    \n        if {expression1}:\n            {body1}\n        elif {expression2}:\n            {body2}\n        elif {expression3}:\n            {body3}\n        .\n        .\n        .\n        else:\n            {bodyFinal}\n    \n    There may be zero or more elif statements, and zero or one else statement\n    After any expression is evaluated to be true, the corresponding body is\n        executed, and program flow continues at the END of the entire if/elif/\n        else block.\n        \n    -------------------------------------------------------------------------\n    \n    The following example if statement checks a string for certain words and\n        prints different outputs depending on the input\n\"\"\"\n\nstring = \"Revolver, Abbey Road\"\nif (\"Yellow Submarine\" in string):\n    print(\"We all live\")\nelif (\"Abbey Road\" in string):\n    print(\"Hey, Jude\")\nelif (\"Revolver\" in string):\n    print(\"Drive my car\")\nelse:\n    print(\"String Not Recognized\")",
     "language": "python",
     "metadata": {},
     "outputs": [
      {
       "output_type": "stream",
       "stream": "stdout",
       "text": "Hey, Jude\n"
      }
     ],
     "prompt_number": 1
    },
    {
     "cell_type": "code",
     "collapsed": false,
     "input": "# Functional Programming\n\n\"\"\" Functions are made of two parts, a Definition and a Body.\n    Function definitions have the form:\n    \n        def functionName(argument1, argument2, ... , argumentN):\n    \n    \"def\" is a python keyword\n    \"functionName\" is the name of the function to define, starting with a\n        a letter and containing any additional numbers, letters, and underscores\n    There may be 0 or more arguments with unique names\n        NOTE: arguments are passed by value, not by address (pointer)\n    end the definition with a colon ':'\n    \n    -----------------------------------------------------------\n    \n    Function Bodies are made up of 1 or more statments.\n    Functions will continue to run until a terminating keyword is\n        encountered (return, yeild, etc.)\n    To return a value from the function, a statement should have the line:\n    \n        return returnValue\n    \n    \"returnValue\" is a variable or literal to be returned from the function\n    \n    -----------------------------------------------------------\n    \n    The following example function takes a string and a number,\n        prints the string, sqaures the number, prints the string\n        again, and then returns the squared number\n\"\"\"\ndef print2ReturnSquare(string, number):\n    \"\"\"Prints a string twice and squares a number\"\"\"\n    print(string) # print string to command line\n    number = number**2 #square the number, outputs nothing\n    print(string) # print string to command line, again\n    return number # return input number, squared\n\nprint2ReturnSquare(\"I am the walrus\", 3)",
     "language": "python",
     "metadata": {},
     "outputs": [
      {
       "output_type": "stream",
       "stream": "stdout",
       "text": "I am the walrus\nI am the walrus\n"
      },
      {
       "metadata": {},
       "output_type": "pyout",
       "prompt_number": 2,
       "text": "9"
      }
     ],
     "prompt_number": 2
    },
    {
     "cell_type": "code",
     "collapsed": false,
     "input": "",
     "language": "python",
     "metadata": {},
     "outputs": []
    },
    {
     "cell_type": "code",
     "collapsed": false,
     "input": "# keywords, *args, and **kwargs\n\n\"\"\" keywords act as optional parameters with default values in function declarations\n    keywords are parameters in the form:\n\n        keyword=parameter\n        \n    if the function is called without a keyword argument, the default value is used\n    if the function is called with a keyword argument, the default value is overwritten\n    \n    -----------------------------------------------------------\n    \n    function arguments with the prefix '*' or '**' are special arguments\n    *args defines the variable 'args' as a list of arbitrary length, which holds all input arguments\n    **kwargs defines the variable 'kwards' as a dictionary of (keyword,value) pairs, with keywords as\n        variable names and value as the variable value.\n    These are used when an unknown number of arguments could be passed to a function\n    \n    -----------------------------------------------------------\n    \n    The first example function shows the use of keyword arguments\n    The following example functions take an arbitrary number of arguments and list them in an organized way\n\"\"\"\ndef function(string=\"default string\"):\n    print string\nfunction(\"hello\")\nfunction()\n\n\ndef listValues(*args):\n    for i,val in enumerate(args):\n        print(\"{0}: {1}\".format(i,val))\n\ndef listArgsValues(**kwargs):\n    for arg,val in kwargs.items():\n        print(\"Keyword: {0}, Value: {1}\".format(arg,val))\n\na = 1\nb = 'ringo'\nc = [1,1,2,3,5]\nlistValues(1,b,c)\nlistArgsValues(d=5,e='paul',f=[1,4,9,16,25])\n\ng = ('a','b','c')\n\n#splat operator",
     "language": "python",
     "metadata": {},
     "outputs": [
      {
       "output_type": "stream",
       "stream": "stdout",
       "text": "hello\ndefault string\n0: 1\n1: ringo\n2: [1, 1, 2, 3, 5]\nKeyword: e, Value: paul\nKeyword: d, Value: 5\nKeyword: f, Value: [1, 4, 9, 16, 25]\n"
      }
     ],
     "prompt_number": 3
    },
    {
     "cell_type": "code",
     "collapsed": false,
     "input": "# While Loops\n\n\"\"\" While loops repeat the body of the loop as long as the condition is satified\n    While loops have the form:\n    \n        while ({exression}):\n            {body}\n    \n    'while' is a python keyword\n    'expression' is a python expression that must evaluate to a boolean value\n    'body' is repeated until {expression} evaluates to False\n    \n    ----------------------------------------------------------------------------\n    \n    The following example function contains a loop that takes the summation of \n        squares starting at 1, up to a user-defined input\n\"\"\"\ndef sumOfSquares(maximum):\n    i = 1\n    summation = 0\n    while (i <= maximum):\n        summation = summation + i**2\n        i = i + 1\n    return summation\n\nsumOfSquares(5)",
     "language": "python",
     "metadata": {},
     "outputs": [
      {
       "metadata": {},
       "output_type": "pyout",
       "prompt_number": 4,
       "text": "55"
      }
     ],
     "prompt_number": 4
    },
    {
     "cell_type": "code",
     "collapsed": false,
     "input": "# For Loops\n\n\"\"\" For loops repeat the body of the loop for each element in a list\n    For loops have the form:\n    \n        for ({elementName} in {listName}):\n            {body}\n    \n    'for' is a python keyword\n    'elementName' is a name of the variable which will hold each value \n        successivly in listName\n    'listName' is the name of the list to be iterated over\n    \n    -------------------------------------------------------------------------\n    \n    The following example function contains a loop that takes a list of ints\n        and returns a new list with the values of the input squared divided\n        by 2\n\"\"\"\ndef halfOfSquare(oldList):\n    newList = []\n    for e in oldList:\n         newList.append(e**2/2)\n    return newList\n\nhalfOfSquare([2,4,6,8])",
     "language": "python",
     "metadata": {},
     "outputs": [
      {
       "metadata": {},
       "output_type": "pyout",
       "prompt_number": 5,
       "text": "[2, 8, 18, 32]"
      }
     ],
     "prompt_number": 5
    },
    {
     "cell_type": "code",
     "collapsed": false,
     "input": "# Break and Continue keywords\n\n\"\"\" Break and Continue are keywords used within loops to alter program flow\n    'break' immediately exits the loop and starts program flow at the end of\n        the loop body\n    'continue' jumps to the end of the body, but does not exit the loop\n    \n    -------------------------------------------------------------------------\n    \n    The following example takes a lists and returns two new lists. One with\n        the squares the even elements in the input, and one with the halves\n        of the even elements in teh input. However, the lists will be returned\n        'as is' if a 0 is found in the input list\n\"\"\"\n\ndef squareAndHalf(inList):\n    list1, list2 = [], []\n    for e in inList:\n        if e == 0:\n            break\n        if e%2 != 0: # if e mod 2 doesn't equal 0\n            continue\n        list1.append(e**2)\n        list2.append(e/2.0)\n        \n    return list1, list2\nsquareAndHalf([2.,2.,8.,3.,10.,1.,6.,5.,0.,32.,41.,2.,7.])",
     "language": "python",
     "metadata": {},
     "outputs": [
      {
       "metadata": {},
       "output_type": "pyout",
       "prompt_number": 11,
       "text": "([4.0, 4.0, 64.0, 100.0, 36.0], [1.0, 1.0, 4.0, 5.0, 3.0])"
      }
     ],
     "prompt_number": 11
    },
    {
     "cell_type": "code",
     "collapsed": false,
     "input": "# List Comprehension\nl = [2.,2.,8.,3.,10.,1.,6.,5.,0.,32.,41.,2.,7.]\nk = [m**2 for m in l if m%2==1]\nprint k",
     "language": "python",
     "metadata": {},
     "outputs": [
      {
       "output_type": "stream",
       "stream": "stdout",
       "text": "[9.0, 1.0, 25.0, 1681.0, 49.0]\n"
      }
     ],
     "prompt_number": 15
    },
    {
     "cell_type": "code",
     "collapsed": false,
     "input": "# Array Slicing\n\n\"\"\" Arrays can be split into subsets by the process of 'slicing'\n    Slicing is delineated by a set of brackets '[ ]' after an array\n    \n    Slicing rules (take n,m,j to be integers)\n        arr[0] == the first value in arr\n        arr[n] == the value at location n in arr\n        arr[-1] == the last value in arr\n        arr[-n] == the value at location n in arr counting backwards from 0\n        arr[n:m] == arr from n to m\n        arr[n:] == arr from location n to the end\n        arr[:m] == arr from beginning to m\n        arr[n:m:j] == arr from n to m, jumping indices by j\n        arr[::-1] == the reverse ordering of arr\n        \n    -------------------------------------------------------------------------\n    \n    Examples of above rules\n\"\"\"\narr = [\"cat\",\"dog\",\"walrus\",\"blue jay\",\"blackbird\",\"octopus\"]\nprint arr[0]\nprint arr[4]\nprint arr[-1]\nprint arr[-4]\nprint arr[3:5]\nprint arr[3:]\nprint arr[:3]\nprint arr[1:5:2]\nprint arr[::-1]",
     "language": "python",
     "metadata": {},
     "outputs": [
      {
       "output_type": "stream",
       "stream": "stdout",
       "text": "cat\nblackbird\noctopus\nwalrus\n['blue jay', 'blackbird']\n['blue jay', 'blackbird', 'octopus']\n['cat', 'dog', 'walrus']\n['dog', 'blue jay']\n['octopus', 'blackbird', 'blue jay', 'walrus', 'dog', 'cat']\n"
      }
     ],
     "prompt_number": 17
    }
   ],
   "metadata": {}
  }
 ]
}